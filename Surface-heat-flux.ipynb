{
 "cells": [
  {
   "cell_type": "code",
   "execution_count": 33,
   "metadata": {
    "collapsed": true
   },
   "outputs": [],
   "source": [
    "import numpy as np\n",
    "import xarray as xr\n",
    "import os.path as op\n",
    "from dask.diagnostics import ProgressBar\n",
    "from xmitgcm import open_mdsdataset\n",
    "from xgcm.grid import Grid\n",
    "import matplotlib.pyplot as plt\n",
    "%matplotlib inline"
   ]
  },
  {
   "cell_type": "code",
   "execution_count": 3,
   "metadata": {
    "collapsed": true
   },
   "outputs": [],
   "source": [
    "ddir = '/rigel/ocp/users/tu2140/MITgcm/SO_only-physics/channel_flat/runs/cooling-surftemp/'"
   ]
  },
  {
   "cell_type": "code",
   "execution_count": 23,
   "metadata": {
    "collapsed": true
   },
   "outputs": [],
   "source": [
    "ts,te = (6091344,6350544)"
   ]
  },
  {
   "cell_type": "code",
   "execution_count": 24,
   "metadata": {
    "scrolled": true
   },
   "outputs": [
    {
     "name": "stderr",
     "output_type": "stream",
     "text": [
      "/rigel/home/tu2140/xmitgcm/xmitgcm/utils.py:314: UserWarning: Not sure what to do with rlev = L\n",
      "  warnings.warn(\"Not sure what to do with rlev = \" + rlev)\n",
      "/rigel/home/tu2140/xmitgcm/xmitgcm/mds_store.py:235: FutureWarning: iteration over an xarray.Dataset will change in xarray v0.11 to only include data variables, not coordinates. Iterate over the Dataset.variables property instead to preserve existing behavior in a forwards compatible manner.\n",
      "  for vname in ds:\n"
     ]
    },
    {
     "data": {
      "text/plain": [
       "<xarray.Dataset>\n",
       "Dimensions:              (XC: 100, XG: 100, YC: 200, YG: 200, Z: 40, Zl: 40, Zp1: 41, Zu: 40, layer_1TH_bounds: 43, layer_1TH_center: 42, layer_1TH_interface: 41, time: 1800)\n",
       "Coordinates:\n",
       "  * XC                   (XC) >f4 5000.0 15000.0 25000.0 35000.0 45000.0 ...\n",
       "  * YC                   (YC) >f4 5000.0 15000.0 25000.0 35000.0 45000.0 ...\n",
       "  * XG                   (XG) >f4 0.0 10000.0 20000.0 30000.0 40000.0 ...\n",
       "  * YG                   (YG) >f4 0.0 10000.0 20000.0 30000.0 40000.0 ...\n",
       "  * Z                    (Z) >f4 -5.0 -15.0 -25.0 -36.0 -49.0 -64.0 -81.5 ...\n",
       "  * Zp1                  (Zp1) >f4 0.0 -10.0 -20.0 -30.0 -42.0 -56.0 -72.0 ...\n",
       "  * Zu                   (Zu) >f4 -10.0 -20.0 -30.0 -42.0 -56.0 -72.0 -91.0 ...\n",
       "  * Zl                   (Zl) >f4 0.0 -10.0 -20.0 -30.0 -42.0 -56.0 -72.0 ...\n",
       "    rA                   (YC, XC) >f4 dask.array<shape=(200, 100), chunksize=(200, 100)>\n",
       "    dxG                  (YG, XC) >f4 dask.array<shape=(200, 100), chunksize=(200, 100)>\n",
       "    dyG                  (YC, XG) >f4 dask.array<shape=(200, 100), chunksize=(200, 100)>\n",
       "    Depth                (YC, XC) >f4 dask.array<shape=(200, 100), chunksize=(200, 100)>\n",
       "    rAz                  (YG, XG) >f4 dask.array<shape=(200, 100), chunksize=(200, 100)>\n",
       "    dxC                  (YC, XG) >f4 dask.array<shape=(200, 100), chunksize=(200, 100)>\n",
       "    dyC                  (YG, XC) >f4 dask.array<shape=(200, 100), chunksize=(200, 100)>\n",
       "    rAw                  (YC, XG) >f4 dask.array<shape=(200, 100), chunksize=(200, 100)>\n",
       "    rAs                  (YG, XC) >f4 dask.array<shape=(200, 100), chunksize=(200, 100)>\n",
       "    drC                  (Zp1) >f4 dask.array<shape=(41,), chunksize=(41,)>\n",
       "    drF                  (Z) >f4 dask.array<shape=(40,), chunksize=(40,)>\n",
       "    PHrefC               (Z) >f4 dask.array<shape=(40,), chunksize=(40,)>\n",
       "    PHrefF               (Zp1) >f4 dask.array<shape=(41,), chunksize=(41,)>\n",
       "    hFacC                (Z, YC, XC) >f4 dask.array<shape=(40, 200, 100), chunksize=(40, 200, 100)>\n",
       "    hFacW                (Z, YC, XG) >f4 dask.array<shape=(40, 200, 100), chunksize=(40, 200, 100)>\n",
       "    hFacS                (Z, YG, XC) >f4 dask.array<shape=(40, 200, 100), chunksize=(40, 200, 100)>\n",
       "  * layer_1TH_bounds     (layer_1TH_bounds) >f4 -0.2 0.0 0.2 0.4 0.6 0.8 1.0 ...\n",
       "  * layer_1TH_center     (layer_1TH_center) float32 -0.1 0.1 0.3 0.5 0.7 0.9 ...\n",
       "  * layer_1TH_interface  (layer_1TH_interface) >f4 0.0 0.2 0.4 0.6 0.8 1.0 ...\n",
       "    iter                 (time) int64 dask.array<shape=(1800,), chunksize=(1,)>\n",
       "  * time                 (time) float64 3.655e+09 3.655e+09 3.655e+09 ...\n",
       "Data variables:\n",
       "    TFLUX                (time, YC, XC) float32 dask.array<shape=(1800, 200, 100), chunksize=(1, 200, 100)>\n",
       "    oceQnet              (time, YC, XC) float32 dask.array<shape=(1800, 200, 100), chunksize=(1, 200, 100)>\n",
       "    oceQsw               (time, YC, XC) float32 dask.array<shape=(1800, 200, 100), chunksize=(1, 200, 100)>\n",
       "    TRELAX               (time, YC, XC) float32 dask.array<shape=(1800, 200, 100), chunksize=(1, 200, 100)>\n",
       "    surForcT             (time, YC, XC) float32 dask.array<shape=(1800, 200, 100), chunksize=(1, 200, 100)>\n",
       "    THETA                (time, Z, YC, XC) float32 dask.array<shape=(1800, 40, 200, 100), chunksize=(1, 40, 200, 100)>\n",
       "    ADVx_TH              (time, Z, YC, XG) float32 dask.array<shape=(1800, 40, 200, 100), chunksize=(1, 40, 200, 100)>\n",
       "    ADVy_TH              (time, Z, YG, XC) float32 dask.array<shape=(1800, 40, 200, 100), chunksize=(1, 40, 200, 100)>\n",
       "    ADVr_TH              (time, Zl, YC, XC) float32 dask.array<shape=(1800, 40, 200, 100), chunksize=(1, 40, 200, 100)>\n",
       "    DFxE_TH              (time, Z, YC, XG) float32 dask.array<shape=(1800, 40, 200, 100), chunksize=(1, 40, 200, 100)>\n",
       "    DFyE_TH              (time, Z, YG, XC) float32 dask.array<shape=(1800, 40, 200, 100), chunksize=(1, 40, 200, 100)>\n",
       "    DFrE_TH              (time, Zl, YC, XC) float32 dask.array<shape=(1800, 40, 200, 100), chunksize=(1, 40, 200, 100)>\n",
       "    DFrI_TH              (time, Zl, YC, XC) float32 dask.array<shape=(1800, 40, 200, 100), chunksize=(1, 40, 200, 100)>"
      ]
     },
     "execution_count": 24,
     "metadata": {},
     "output_type": "execute_result"
    }
   ],
   "source": [
    "ds = open_mdsdataset(ddir, iters=range(ts,te,144), prefix=['SurfTflux','PotTtave'], \n",
    "                     delta_t=6e2, geometry='cartesian', ignore_unknown_vars=True)\n",
    "ds"
   ]
  },
  {
   "cell_type": "code",
   "execution_count": 25,
   "metadata": {
    "collapsed": true
   },
   "outputs": [],
   "source": [
    "month = np.tile(np.repeat(range(1,13),30),5)\n",
    "ds.coords['month'] = ('time',month)"
   ]
  },
  {
   "cell_type": "code",
   "execution_count": 15,
   "metadata": {},
   "outputs": [],
   "source": [
    "surFortT = ds.surForcT\n",
    "Trelax = ds.TRELAX\n",
    "Tflux = ds.TFLUX\n",
    "Qnet = ds.oceQnet\n",
    "Qsw = ds.oceQsw"
   ]
  },
  {
   "cell_type": "code",
   "execution_count": 11,
   "metadata": {},
   "outputs": [
    {
     "data": {
      "text/plain": [
       "<xarray.DataArray 'TRELAX' (time: 1800, YC: 200, XC: 100)>\n",
       "dask.array<shape=(1800, 200, 100), dtype=float32, chunksize=(1, 200, 100)>\n",
       "Coordinates:\n",
       "  * XC       (XC) >f4 5000.0 15000.0 25000.0 35000.0 45000.0 55000.0 65000.0 ...\n",
       "  * YC       (YC) >f4 5000.0 15000.0 25000.0 35000.0 45000.0 55000.0 65000.0 ...\n",
       "    rA       (YC, XC) >f4 dask.array<shape=(200, 100), chunksize=(200, 100)>\n",
       "    Depth    (YC, XC) >f4 dask.array<shape=(200, 100), chunksize=(200, 100)>\n",
       "    iter     (time) int64 dask.array<shape=(1800,), chunksize=(1,)>\n",
       "  * time     (time) float64 3.655e+09 3.655e+09 3.655e+09 3.655e+09 ...\n",
       "    month    (time) int64 1 1 1 1 1 1 1 1 1 1 1 1 1 1 1 1 1 1 1 1 1 1 1 1 1 ...\n",
       "Attributes:\n",
       "    standard_name:  TRELAX\n",
       "    long_name:      surface temperature relaxation, >0 increases theta\n",
       "    units:          W/m^2"
      ]
     },
     "execution_count": 11,
     "metadata": {},
     "output_type": "execute_result"
    },
    {
     "data": {
      "image/png": "[encoded data removed]",
      "text/plain": [
       "<matplotlib.figure.Figure at 0x2aab54dfa940>"
      ]
     },
     "metadata": {},
     "output_type": "display_data"
    }
   ],
   "source": [
    "Trelax_mon = Trelax.groupby('month').mean(['time','XC'])\n",
    "Trelax_mon.plot()\n",
    "Trelax"
   ]
  },
  {
   "cell_type": "code",
   "execution_count": 12,
   "metadata": {
    "scrolled": false
   },
   "outputs": [
    {
     "data": {
      "text/plain": [
       "<xarray.DataArray 'TFLUX' (time: 1800, YC: 200, XC: 100)>\n",
       "dask.array<shape=(1800, 200, 100), dtype=float32, chunksize=(1, 200, 100)>\n",
       "Coordinates:\n",
       "  * XC       (XC) >f4 5000.0 15000.0 25000.0 35000.0 45000.0 55000.0 65000.0 ...\n",
       "  * YC       (YC) >f4 5000.0 15000.0 25000.0 35000.0 45000.0 55000.0 65000.0 ...\n",
       "    rA       (YC, XC) >f4 dask.array<shape=(200, 100), chunksize=(200, 100)>\n",
       "    Depth    (YC, XC) >f4 dask.array<shape=(200, 100), chunksize=(200, 100)>\n",
       "    iter     (time) int64 dask.array<shape=(1800,), chunksize=(1,)>\n",
       "  * time     (time) float64 3.655e+09 3.655e+09 3.655e+09 3.655e+09 ...\n",
       "    month    (time) int64 1 1 1 1 1 1 1 1 1 1 1 1 1 1 1 1 1 1 1 1 1 1 1 1 1 ...\n",
       "Attributes:\n",
       "    standard_name:  TFLUX\n",
       "    long_name:      total heat flux (match heat-content variations), >0 incre...\n",
       "    units:          W/m^2"
      ]
     },
     "execution_count": 12,
     "metadata": {},
     "output_type": "execute_result"
    },
    {
     "data": {
      "image/png": "[encoded data removed]",
      "text/plain": [
       "<matplotlib.figure.Figure at 0x2aab576b9b38>"
      ]
     },
     "metadata": {},
     "output_type": "display_data"
    }
   ],
   "source": [
    "Tflux_mon = Tflux.groupby('month').mean(['time','XC'])\n",
    "Tflux_mon.plot()\n",
    "Tflux"
   ]
  },
  {
   "cell_type": "code",
   "execution_count": 16,
   "metadata": {},
   "outputs": [
    {
     "data": {
      "text/plain": [
       "<xarray.DataArray 'surForcT' (time: 1800, YC: 200, XC: 100)>\n",
       "dask.array<shape=(1800, 200, 100), dtype=float32, chunksize=(1, 200, 100)>\n",
       "Coordinates:\n",
       "  * XC       (XC) >f4 5000.0 15000.0 25000.0 35000.0 45000.0 55000.0 65000.0 ...\n",
       "  * YC       (YC) >f4 5000.0 15000.0 25000.0 35000.0 45000.0 55000.0 65000.0 ...\n",
       "    rA       (YC, XC) >f4 dask.array<shape=(200, 100), chunksize=(200, 100)>\n",
       "    Depth    (YC, XC) >f4 dask.array<shape=(200, 100), chunksize=(200, 100)>\n",
       "    iter     (time) int64 dask.array<shape=(1800,), chunksize=(1,)>\n",
       "  * time     (time) float64 3.655e+09 3.655e+09 3.655e+09 3.655e+09 ...\n",
       "    month    (time) int64 1 1 1 1 1 1 1 1 1 1 1 1 1 1 1 1 1 1 1 1 1 1 1 1 1 ...\n",
       "Attributes:\n",
       "    standard_name:  surForcT\n",
       "    long_name:      model surface forcing for Temperature, >0 increases theta\n",
       "    units:          W/m^2"
      ]
     },
     "execution_count": 16,
     "metadata": {},
     "output_type": "execute_result"
    },
    {
     "data": {
      "image/png": "[encoded data removed]",
      "text/plain": [
       "<matplotlib.figure.Figure at 0x2aab57892e10>"
      ]
     },
     "metadata": {},
     "output_type": "display_data"
    }
   ],
   "source": [
    "surFortT_mon = surFortT.groupby('month').mean(['time','XC'])\n",
    "surFortT_mon.plot()\n",
    "surFortT"
   ]
  },
  {
   "cell_type": "code",
   "execution_count": 20,
   "metadata": {
    "scrolled": true
   },
   "outputs": [
    {
     "data": {
      "text/plain": [
       "<xarray.DataArray (month: 12, YC: 200, XC: 100)>\n",
       "array([[[  8.660254e-01,   8.660254e-01, ...,   8.660254e-01,   8.660254e-01],\n",
       "        [  9.206285e-01,   9.206285e-01, ...,   9.206285e-01,   9.206285e-01],\n",
       "        ..., \n",
       "        [  1.167745e+01,   1.167745e+01, ...,   1.167745e+01,   1.167745e+01],\n",
       "        [  1.173205e+01,   1.173205e+01, ...,   1.173205e+01,   1.173205e+01]],\n",
       "\n",
       "       [[  1.000000e+00,   1.000000e+00, ...,   1.000000e+00,   1.000000e+00],\n",
       "        [  1.055276e+00,   1.055276e+00, ...,   1.055276e+00,   1.055276e+00],\n",
       "        ..., \n",
       "        [  1.194472e+01,   1.194472e+01, ...,   1.194472e+01,   1.194472e+01],\n",
       "        [  1.200000e+01,   1.200000e+01, ...,   1.200000e+01,   1.200000e+01]],\n",
       "\n",
       "       ..., \n",
       "       [[ -1.836970e-16,  -1.836970e-16, ...,  -1.836970e-16,  -1.836970e-16],\n",
       "        [  5.025126e-02,   5.025126e-02, ...,   5.025126e-02,   5.025126e-02],\n",
       "        ..., \n",
       "        [  9.949749e+00,   9.949749e+00, ...,   9.949749e+00,   9.949749e+00],\n",
       "        [  1.000000e+01,   1.000000e+01, ...,   1.000000e+01,   1.000000e+01]],\n",
       "\n",
       "       [[  5.000000e-01,   5.000000e-01, ...,   5.000000e-01,   5.000000e-01],\n",
       "        [  5.527638e-01,   5.527638e-01, ...,   5.527638e-01,   5.527638e-01],\n",
       "        ..., \n",
       "        [  1.094724e+01,   1.094724e+01, ...,   1.094724e+01,   1.094724e+01],\n",
       "        [  1.100000e+01,   1.100000e+01, ...,   1.100000e+01,   1.100000e+01]]])\n",
       "Coordinates:\n",
       "  * month    (month) int64 1 2 3 4 5 6 7 8 9 10 11 12\n",
       "  * YC       (YC) >f4 5000.0 15000.0 25000.0 35000.0 45000.0 55000.0 65000.0 ...\n",
       "  * XC       (XC) >f4 5000.0 15000.0 25000.0 35000.0 45000.0 55000.0 65000.0 ..."
      ]
     },
     "execution_count": 20,
     "metadata": {},
     "output_type": "execute_result"
    }
   ],
   "source": [
    "dtype = '>f8'\n",
    "fname = op.join('/rigel/ocp/users/tu2140/chkp63n/MITgcm/Southern-Ocean/channel_flat/input',\n",
    "                'SST_linear_010km.bin')\n",
    "shape = (12,200,100)\n",
    "ForcT = np.fromfile(fname, dtype=dtype)\n",
    "ForcT.shape = shape\n",
    "ForcT = xr.DataArray(ForcT, dims=['month','YC','XC'], \n",
    "                     coords={'month':range(1,13),'YC':ds.YC.data,'XC':ds.XC.data})\n",
    "ForcT"
   ]
  },
  {
   "cell_type": "code",
   "execution_count": 21,
   "metadata": {},
   "outputs": [
    {
     "data": {
      "text/plain": [
       "<matplotlib.collections.QuadMesh at 0x2aab56bf62e8>"
      ]
     },
     "execution_count": 21,
     "metadata": {},
     "output_type": "execute_result"
    },
    {
     "data": {
      "image/png": "[encoded data removed]",
      "text/plain": [
       "<matplotlib.figure.Figure at 0x2aab544123c8>"
      ]
     },
     "metadata": {},
     "output_type": "display_data"
    }
   ],
   "source": [
    "ForcT.mean('XC').plot()"
   ]
  },
  {
   "cell_type": "code",
   "execution_count": 27,
   "metadata": {},
   "outputs": [
    {
     "data": {
      "text/plain": [
       "<xarray.DataArray 'THETA' (time: 1800, YC: 200, XC: 100)>\n",
       "dask.array<shape=(1800, 200, 100), dtype=float32, chunksize=(1, 200, 100)>\n",
       "Coordinates:\n",
       "  * XC       (XC) >f4 5000.0 15000.0 25000.0 35000.0 45000.0 55000.0 65000.0 ...\n",
       "  * YC       (YC) >f4 5000.0 15000.0 25000.0 35000.0 45000.0 55000.0 65000.0 ...\n",
       "    Z        >f4 -5.0\n",
       "    rA       (YC, XC) >f4 dask.array<shape=(200, 100), chunksize=(200, 100)>\n",
       "    Depth    (YC, XC) >f4 dask.array<shape=(200, 100), chunksize=(200, 100)>\n",
       "    drF      >f4 dask.array<shape=(), chunksize=()>\n",
       "    PHrefC   >f4 dask.array<shape=(), chunksize=()>\n",
       "    hFacC    (YC, XC) >f4 dask.array<shape=(200, 100), chunksize=(200, 100)>\n",
       "    iter     (time) int64 dask.array<shape=(1800,), chunksize=(1,)>\n",
       "  * time     (time) float64 3.655e+09 3.655e+09 3.655e+09 3.655e+09 ...\n",
       "    month    (time) int64 1 1 1 1 1 1 1 1 1 1 1 1 1 1 1 1 1 1 1 1 1 1 1 1 1 ...\n",
       "Attributes:\n",
       "    standard_name:  THETA\n",
       "    long_name:      Potential Temperature\n",
       "    units:          degC"
      ]
     },
     "execution_count": 27,
     "metadata": {},
     "output_type": "execute_result"
    },
    {
     "data": {
      "image/png": "[encoded data removed]",
      "text/plain": [
       "<matplotlib.figure.Figure at 0x2aab5418b208>"
      ]
     },
     "metadata": {},
     "output_type": "display_data"
    }
   ],
   "source": [
    "sst = ds.THETA[:,0]\n",
    "sst_mon = sst.groupby('month').mean(['time','XC'])\n",
    "sst_mon.plot()\n",
    "sst"
   ]
  },
  {
   "cell_type": "code",
   "execution_count": 40,
   "metadata": {},
   "outputs": [
    {
     "name": "stdout",
     "output_type": "stream",
     "text": [
      "[########################################] | 100% Completed |  7.9s\n"
     ]
    },
    {
     "data": {
      "text/plain": [
       "<xarray.DataArray (month: 12, YC: 200)>\n",
       "array([[  1.228500e+01,  -2.108197e+01,  -2.071409e+01, ...,   1.980897e+01,\n",
       "          1.870343e+01,   1.676449e+01],\n",
       "       [  1.418550e+01,  -1.862469e+01,  -1.809068e+01, ...,   2.604099e+01,\n",
       "          2.466465e+01,   2.256251e+01],\n",
       "       [  1.228500e+01,  -1.990116e+01,  -1.933962e+01, ...,   2.273766e+01,\n",
       "          2.118146e+01,   1.942960e+01],\n",
       "       ..., \n",
       "       [ -7.092750e+00,  -4.095253e+01,  -4.076352e+01, ...,  -2.884930e+01,\n",
       "         -2.928451e+01,  -3.070444e+01],\n",
       "       [ -2.605834e-15,  -3.443760e+01,  -3.413407e+01, ...,  -1.161833e+01,\n",
       "         -1.259573e+01,  -1.404651e+01],\n",
       "       [  7.092750e+00,  -2.706538e+01,  -2.665931e+01, ...,   5.789798e+00,\n",
       "          4.886008e+00,   2.993701e+00]])\n",
       "Coordinates:\n",
       "  * month    (month) int64 1 2 3 4 5 6 7 8 9 10 11 12\n",
       "  * YC       (YC) >f4 5000.0 15000.0 25000.0 35000.0 45000.0 55000.0 65000.0 ...\n",
       "    Z        >f4 -5.0\n",
       "    drF      float32 10.0\n",
       "    PHrefC   float32 49.05"
      ]
     },
     "execution_count": 40,
     "metadata": {},
     "output_type": "execute_result"
    }
   ],
   "source": [
    "cs = 1e-3\n",
    "cp = 1158.\n",
    "rhoa = 1.225\n",
    "u10 = 1e1\n",
    "with ProgressBar():\n",
    "    Tflx_est = rhoa*cp*cs*u10*(ForcT.mean('XC') - sst_mon).compute()\n",
    "Tflx_est"
   ]
  },
  {
   "cell_type": "code",
   "execution_count": 41,
   "metadata": {},
   "outputs": [
    {
     "data": {
      "text/plain": [
       "<matplotlib.collections.QuadMesh at 0x2aab60a09da0>"
      ]
     },
     "execution_count": 41,
     "metadata": {},
     "output_type": "execute_result"
    },
    {
     "data": {
      "image/png": "[encoded data removed]",
      "text/plain": [
       "<matplotlib.figure.Figure at 0x2aab6111f978>"
      ]
     },
     "metadata": {},
     "output_type": "display_data"
    }
   ],
   "source": [
    "Tflx_est.plot()"
   ]
  },
  {
   "cell_type": "code",
   "execution_count": null,
   "metadata": {
    "collapsed": true
   },
   "outputs": [],
   "source": []
  }
 ],
 "metadata": {
  "kernelspec": {
   "display_name": "Python 3 (uptodate)",
   "language": "python",
   "name": "uptodate"
  },
  "language_info": {
   "codemirror_mode": {
    "name": "ipython",
    "version": 3
   },
   "file_extension": ".py",
   "mimetype": "text/x-python",
   "name": "python",
   "nbconvert_exporter": "python",
   "pygments_lexer": "ipython3",
   "version": "3.6.2"
  }
 },
 "nbformat": 4,
 "nbformat_minor": 2
}
